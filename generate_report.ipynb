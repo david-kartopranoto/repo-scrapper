{
 "cells": [
  {
   "cell_type": "markdown",
   "metadata": {},
   "source": [
    "# Loading in Data"
   ]
  },
  {
   "cell_type": "markdown",
   "metadata": {},
   "source": [
    "Loading the scrapped data to pandas"
   ]
  },
  {
   "cell_type": "code",
   "execution_count": null,
   "metadata": {
    "collapsed": false
   },
   "outputs": [],
   "source": [
    "import pandas as pd\n",
    "import glob\n",
    "import os\n",
    "\n",
    "path = \"\"\n",
    "all_files = glob.glob(os.path.join(path, \"*.csv\"))\n",
    "activity_df = pd.concat((pd.read_csv(f) for f in all_files), ignore_index=True)\n",
    "activity_df['Created'] = pd.to_datetime(activity_df['Created'])\n",
    "activity_df['Updated'] = pd.to_datetime(activity_df['Updated'])\n",
    "pr_df = activity_df[[\"ID\", \"SrcRepo\", \"SrcBranch\", \"DestRepo\", \"DestBranch\", \"Title\", \"Description\", \"State\", \"Author\", \"Created\", \"Updated\",\n",
    "\t\t\t\"FileChanged\", \"Added\", \"Removed\", \"Total\"]].copy().drop_duplicates()"
   ]
  },
  {
   "cell_type": "markdown",
   "metadata": {},
   "source": [
    "Make sure the data is loaded properly and do column manipulation for further analysis"
   ]
  },
  {
   "cell_type": "code",
   "execution_count": null,
   "metadata": {
    "collapsed": false
   },
   "outputs": [],
   "source": [
    "activity_df['DateGroup'] = activity_df['Updated'].dt.strftime('%Y-%m')\n",
    "activity_df.head()"
   ]
  },
  {
   "cell_type": "code",
   "execution_count": null,
   "metadata": {
    "collapsed": false
   },
   "outputs": [],
   "source": [
    "pr_df['DateGroup'] = pr_df['Updated'].dt.strftime('%Y-%m')\n",
    "pr_df.head()"
   ]
  },
  {
   "cell_type": "markdown",
   "metadata": {},
   "source": [
    "# PR Data Analysis\n",
    "\n",
    "## Grouped by Repositories"
   ]
  },
  {
   "cell_type": "code",
   "execution_count": null,
   "metadata": {},
   "outputs": [],
   "source": [
    "def pr_total_group_by(df,myList= [],*args): \n",
    "    c = ['Added','Removed','Total']\n",
    "    return df.groupby(myList)[c].sum()\n",
    "\n",
    "pr_total_group_by(pr_df, ['DateGroup', 'SrcRepo'])"
   ]
  },
  {
   "cell_type": "markdown",
   "metadata": {},
   "source": [
    "## Grouped by Authors"
   ]
  },
  {
   "cell_type": "code",
   "execution_count": null,
   "metadata": {},
   "outputs": [],
   "source": [
    "pr_total_group_by(pr_df, ['DateGroup', 'Author'])"
   ]
  },
  {
   "cell_type": "markdown",
   "metadata": {},
   "source": [
    "# PR Activity Analysis\n",
    "\n",
    "## Group by Repositories"
   ]
  },
  {
   "cell_type": "code",
   "execution_count": null,
   "metadata": {},
   "outputs": [],
   "source": [
    "def activity_describe_group_by(df,myList= [],*args): \n",
    "    return df.groupby(myList)['Type'].count()\n",
    "\n",
    "activity_describe_group_by(activity_df, ['DateGroup', 'SrcRepo', 'Type'])"
   ]
  },
  {
   "cell_type": "markdown",
   "metadata": {},
   "source": [
    "## Group by Users"
   ]
  },
  {
   "cell_type": "code",
   "execution_count": null,
   "metadata": {},
   "outputs": [],
   "source": [
    "activity_describe_group_by(activity_df, ['DateGroup', 'User', 'Type'])"
   ]
  },
  {
   "cell_type": "code",
   "execution_count": null,
   "metadata": {},
   "outputs": [],
   "source": []
  }
 ],
 "metadata": {
  "anaconda-cloud": {},
  "kernelspec": {
   "display_name": "Python 3",
   "language": "python",
   "name": "python3"
  },
  "language_info": {
   "codemirror_mode": {
    "name": "ipython",
    "version": 3
   },
   "file_extension": ".py",
   "mimetype": "text/x-python",
   "name": "python",
   "nbconvert_exporter": "python",
   "pygments_lexer": "ipython3",
   "version": "3.11.3"
  }
 },
 "nbformat": 4,
 "nbformat_minor": 1
}
