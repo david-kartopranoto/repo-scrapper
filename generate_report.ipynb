{
 "cells": [
  {
   "cell_type": "markdown",
   "metadata": {},
   "source": [
    "# Loading in Data"
   ]
  },
  {
   "cell_type": "markdown",
   "metadata": {},
   "source": [
    "Loading the scrapped data to pandas"
   ]
  },
  {
   "cell_type": "code",
   "execution_count": null,
   "metadata": {
    "collapsed": false
   },
   "outputs": [],
   "source": [
    "import pandas as pd\n",
    "import glob\n",
    "import os\n",
    "import numpy as np\n",
    "\n",
    "path = \"\"\n",
    "all_files = glob.glob(os.path.join(path, \"*.csv\"))\n",
    "activity_df = pd.concat((pd.read_csv(f) for f in all_files), ignore_index=True)\n",
    "activity_df['Created'] = pd.to_datetime(activity_df['Created'])\n",
    "activity_df['Updated'] = pd.to_datetime(activity_df['Updated'])\n",
    "pr_df = activity_df[[\"ID\", \"SrcRepo\", \"SrcBranch\", \"DestRepo\", \"DestBranch\", \"Title\", \"Description\", \"State\", \"Author\", \"Created\", \"Updated\",\n",
    "\t\t\t\"FileChanged\", \"Added\", \"Removed\", \"Total\"]].copy().drop_duplicates()"
   ]
  },
  {
   "cell_type": "markdown",
   "metadata": {},
   "source": [
    "Make sure the data is loaded properly and do column manipulation for further analysis"
   ]
  },
  {
   "cell_type": "code",
   "execution_count": null,
   "metadata": {
    "collapsed": false
   },
   "outputs": [],
   "source": [
    "activity_df['DateGroup'] = activity_df['Updated'].dt.strftime('%Y-%m')\n",
    "activity_df['SrcRepo'] = activity_df['SrcRepo'].str.split('/').str[1]\n",
    "activity_df['DestRepo'] = activity_df['DestRepo'].str.split('/').str[1]\n",
    "activity_df.head()"
   ]
  },
  {
   "cell_type": "code",
   "execution_count": null,
   "metadata": {
    "collapsed": false
   },
   "outputs": [],
   "source": [
    "pr_df['DateGroup'] = pr_df['Updated'].dt.strftime('%Y-%m')\n",
    "pr_df['SrcRepo'] = pr_df['SrcRepo'].str.split('/').str[1]\n",
    "pr_df['DestRepo'] = pr_df['DestRepo'].str.split('/').str[1]\n",
    "pr_df.head()"
   ]
  },
  {
   "cell_type": "markdown",
   "metadata": {},
   "source": [
    "# PR Data Analysis\n",
    "\n",
    "## Grouped by Repositories"
   ]
  },
  {
   "cell_type": "code",
   "execution_count": null,
   "metadata": {},
   "outputs": [],
   "source": [
    "def pr_total_group_by(df,myList= [],*args): \n",
    "    c = ['Total']\n",
    "    return df.groupby(myList)[c].sum()\n",
    "\n",
    "def autopct_total(pct, df):\n",
    "    absolute = int(pct/100.*np.sum(df[\"Total\"].values.tolist()))\n",
    "    return \"{:.1f}%\\n({:d})\".format(pct, absolute)\n",
    "\n",
    "repo_group = pr_total_group_by(pr_df, ['SrcRepo'])\n",
    "# repo_group = repo_group.plot(kind= 'pie', y= 'Total', legend=False, autopct = lambda pct: autopct_total(pct, repo_group))\n",
    "repo_group = repo_group.plot(kind= 'bar', y= 'Total', legend=False)\n",
    "repo_group.set_title('Total Changes by repo')\n",
    "repo_group.set_ylabel('');\n",
    "\n",
    "#Un comment if needed per month data\n",
    "# date_repo_pivot = pr_df.pivot_table( index='DateGroup', columns='SrcRepo', values=['Total'], aggfunc='sum')\n",
    "# date_repo_group = date_repo_pivot.plot(kind=\"bar\", legend=True)\n",
    "# date_repo_group.set_title('Total Changes per Month')\n",
    "# date_repo_group.set_ylabel('');\n",
    "# date_repo_group.axhline(pr_df[\"Total\"].mean())\n",
    "# date_repo_group.legend(bbox_to_anchor=(1.0, 1.0))\n"
   ]
  },
  {
   "cell_type": "markdown",
   "metadata": {},
   "source": [
    "## Grouped by Authors"
   ]
  },
  {
   "cell_type": "code",
   "execution_count": null,
   "metadata": {},
   "outputs": [],
   "source": [
    "author_group = pr_total_group_by(pr_df, ['Author'])\n",
    "author_group = author_group.plot(kind= 'bar', y= 'Total', legend=False)\n",
    "author_group.set_title('Total Changes by Author')\n",
    "author_group.set_ylabel('');"
   ]
  },
  {
   "cell_type": "markdown",
   "metadata": {},
   "source": [
    "# PR Activity Analysis\n",
    "\n",
    "## Group by Repositories"
   ]
  },
  {
   "cell_type": "code",
   "execution_count": null,
   "metadata": {},
   "outputs": [],
   "source": [
    "activity_repo_pivot = activity_df.pivot_table( index='SrcRepo', columns='Type', values=['Total'], aggfunc='count')\n",
    "activity_repo_pivot = activity_repo_pivot.plot(kind=\"bar\", legend=True)\n",
    "activity_repo_pivot.set_title('Total Activity per Repo')\n",
    "activity_repo_pivot.set_ylabel('');\n",
    "activity_repo_pivot.legend(bbox_to_anchor=(1.0, 1.0))"
   ]
  },
  {
   "cell_type": "markdown",
   "metadata": {},
   "source": [
    "## Group by Users"
   ]
  },
  {
   "cell_type": "code",
   "execution_count": null,
   "metadata": {},
   "outputs": [],
   "source": [
    "activity_user_pivot = activity_df.pivot_table( index='User', columns='Type', values=['Total'], aggfunc='count')\n",
    "activity_user_pivot = activity_user_pivot.plot(kind=\"bar\", legend=True)\n",
    "activity_user_pivot.set_title('Total Activity per User')\n",
    "activity_user_pivot.set_ylabel('');\n",
    "activity_user_pivot.legend(bbox_to_anchor=(1.0, 1.0))"
   ]
  },
  {
   "cell_type": "code",
   "execution_count": null,
   "metadata": {},
   "outputs": [],
   "source": []
  }
 ],
 "metadata": {
  "anaconda-cloud": {},
  "kernelspec": {
   "display_name": "Python 3",
   "language": "python",
   "name": "python3"
  },
  "language_info": {
   "codemirror_mode": {
    "name": "ipython",
    "version": 3
   },
   "file_extension": ".py",
   "mimetype": "text/x-python",
   "name": "python",
   "nbconvert_exporter": "python",
   "pygments_lexer": "ipython3",
   "version": "3.11.3"
  }
 },
 "nbformat": 4,
 "nbformat_minor": 1
}
